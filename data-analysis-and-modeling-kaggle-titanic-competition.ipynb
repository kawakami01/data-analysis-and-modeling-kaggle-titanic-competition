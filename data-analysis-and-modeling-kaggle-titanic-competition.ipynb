{
 "cells": [
  {
   "attachments": {},
   "cell_type": "markdown",
   "metadata": {},
   "source": [
    "# 0. Introdução"
   ]
  },
  {
   "attachments": {},
   "cell_type": "markdown",
   "metadata": {},
   "source": [
    "## 0.1 Configurações e Importação das Bibliotecas"
   ]
  },
  {
   "cell_type": "code",
   "execution_count": 1,
   "metadata": {},
   "outputs": [],
   "source": [
    "import numpy as np\n",
    "import pandas as pd\n",
    "\n",
    "import matplotlib.pyplot as plt\n",
    "import seaborn as sns\n",
    "\n",
    "from sklearn.ensemble import RandomForestClassifier\n",
    "from sklearn.preprocessing import OneHotEncoder, LabelEncoder, StandardScaler\n",
    "from sklearn.metrics import roc_curve, auc\n",
    "from sklearn.model_selection import StratifiedKFold\n",
    "\n",
    "import os\n",
    "import string\n",
    "import warnings\n",
    "warnings.filterwarnings('ignore')\n",
    "\n",
    "colors = ['#003f5c', '#00597b', '#007594', '#0092a3', '#00afa7', '#00cb9f', '#00e68e', '#63ff74']\n",
    "palette = sns.set_palette(sns.color_palette(colors))\n",
    "sns.set_theme(style='whitegrid', palette=palette)\n",
    "\n",
    "SEED = 0"
   ]
  },
  {
   "attachments": {},
   "cell_type": "markdown",
   "metadata": {},
   "source": [
    "## 0.2 Importando os Dados"
   ]
  },
  {
   "cell_type": "code",
   "execution_count": 4,
   "metadata": {},
   "outputs": [],
   "source": [
    "cwd = os.getcwd()\n",
    "\n",
    "df_train = pd.read_csv(f'{cwd}\\\\train.csv')\n",
    "df_test = pd.read_csv(f'{cwd}\\\\test.csv')\n",
    "df_all = pd.concat([df_train, df_test], sort=True).reset_index(drop=True)"
   ]
  },
  {
   "cell_type": "code",
   "execution_count": 10,
   "metadata": {},
   "outputs": [
    {
     "data": {
      "text/plain": [
       "((891, 12), (418, 11))"
      ]
     },
     "execution_count": 10,
     "metadata": {},
     "output_type": "execute_result"
    }
   ],
   "source": [
    "df_train.shape, df_test.shape"
   ]
  },
  {
   "attachments": {},
   "cell_type": "markdown",
   "metadata": {},
   "source": [
    "# 1. Análise Exploratória Dos Dados"
   ]
  },
  {
   "attachments": {},
   "cell_type": "markdown",
   "metadata": {},
   "source": [
    "## 1.1 Visão Geral\n",
    "* `PassengerId` é o id único da linha e não tem nenhum efeito no *target*\n",
    "* `Survived` é a variável *target* que estamos tentando prever (**0** or **1**):\n",
    "    - **1 = Sobreviveu**\n",
    "    - **0 = Não Sobreviveu**\n",
    "* `Pclass` (Passenger Class) é o status socioeconômico do passageiro e é uma característica categórica que tem **3** valores únicos (**1**,  **2 **or **3**):\n",
    "    - **1 = Classe Alta**\n",
    "    - **2 = Classe Média**\n",
    "    - **3 = Classe Baixa**\n",
    "* `Name`, `Sex` and `Age` são autoexplicativas\n",
    "* `SibSp` é o número total de irmão e cônjuges dos passageiros\n",
    "* `Parch` é o número total de pais e filhos dos passageiros\n",
    "* `Ticket` é o número do bilhete do passageiro\n",
    "* `Fare` é a tarifa do passageiro\n",
    "* `Cabin` é o número da cabine do passageiro\n",
    "* `Embarked` é o porto de embargue e é uma característica categórica que tem **3** valores únicos (**C**, **Q** or **S**):\n",
    "    - **C = Cherbourg**\n",
    "    - **Q = Queenstown**\n",
    "    - **S = Southampton**"
   ]
  },
  {
   "cell_type": "code",
   "execution_count": 12,
   "metadata": {},
   "outputs": [
    {
     "name": "stdout",
     "output_type": "stream",
     "text": [
      "<class 'pandas.core.frame.DataFrame'>\n",
      "RangeIndex: 891 entries, 0 to 890\n",
      "Data columns (total 12 columns):\n",
      " #   Column       Non-Null Count  Dtype  \n",
      "---  ------       --------------  -----  \n",
      " 0   PassengerId  891 non-null    int64  \n",
      " 1   Survived     891 non-null    int64  \n",
      " 2   Pclass       891 non-null    int64  \n",
      " 3   Name         891 non-null    object \n",
      " 4   Sex          891 non-null    object \n",
      " 5   Age          714 non-null    float64\n",
      " 6   SibSp        891 non-null    int64  \n",
      " 7   Parch        891 non-null    int64  \n",
      " 8   Ticket       891 non-null    object \n",
      " 9   Fare         891 non-null    float64\n",
      " 10  Cabin        204 non-null    object \n",
      " 11  Embarked     889 non-null    object \n",
      "dtypes: float64(2), int64(5), object(5)\n",
      "memory usage: 83.7+ KB\n"
     ]
    }
   ],
   "source": [
    "df_train.info()"
   ]
  },
  {
   "attachments": {},
   "cell_type": "markdown",
   "metadata": {},
   "source": [
    "Aqui na visão geral já da pra ver que temos valores faltantes, vamos dar uma olhada melhor neles:"
   ]
  },
  {
   "attachments": {},
   "cell_type": "markdown",
   "metadata": {},
   "source": [
    "# 1.2 Valores Faltantes"
   ]
  },
  {
   "cell_type": "code",
   "execution_count": 17,
   "metadata": {},
   "outputs": [
    {
     "data": {
      "text/plain": [
       "PassengerId      0\n",
       "Survived         0\n",
       "Pclass           0\n",
       "Name             0\n",
       "Sex              0\n",
       "Age            177\n",
       "SibSp            0\n",
       "Parch            0\n",
       "Ticket           0\n",
       "Fare             0\n",
       "Cabin          687\n",
       "Embarked         2\n",
       "dtype: int64"
      ]
     },
     "execution_count": 17,
     "metadata": {},
     "output_type": "execute_result"
    }
   ],
   "source": [
    "df_train.isnull().sum() # Valores nulos no DataFrame de treino"
   ]
  },
  {
   "cell_type": "code",
   "execution_count": 18,
   "metadata": {},
   "outputs": [
    {
     "data": {
      "text/plain": [
       "PassengerId      0\n",
       "Pclass           0\n",
       "Name             0\n",
       "Sex              0\n",
       "Age             86\n",
       "SibSp            0\n",
       "Parch            0\n",
       "Ticket           0\n",
       "Fare             1\n",
       "Cabin          327\n",
       "Embarked         0\n",
       "dtype: int64"
      ]
     },
     "execution_count": 18,
     "metadata": {},
     "output_type": "execute_result"
    }
   ],
   "source": [
    "df_test.isnull().sum() # Valores nulos do DataFrame de teste"
   ]
  },
  {
   "attachments": {},
   "cell_type": "markdown",
   "metadata": {},
   "source": [
    "É conveniente trabalhar com a concatenação do conjunto de teste e treino, caso contrário, os dados preenchidos podem *overfitar*. A quantidade de valore nulos em `Age`, `Embbarked` e `Fare` são pequenos comparados a amostra total, mas aproximadamente **80%** de `Cabin` estão faltando. Valores faltantes em `Age`, `Embarked` e `Fare` podem ser preenchidos com medidas estatísticas descritivas, mas isso não funcionaria para `Cabin`.\n",
    "\n",
    "**overfitar** é um termo informal para representar quando ocorre *overfit*. *Overfit* é quando o modelo se acostuma tanto com os dados de treino que ele praticamente 'decora' um resultado, a consequência disso é que ele terá um desempenho excelente no treino, porém quando submetido aos dados de teste o desempenho será ruim. A tradução formal de *overfit* é sobreajuste."
   ]
  },
  {
   "attachments": {},
   "cell_type": "markdown",
   "metadata": {},
   "source": [
    "### 1.2.1 Age"
   ]
  },
  {
   "attachments": {},
   "cell_type": "markdown",
   "metadata": {},
   "source": [
    "Valores faltantes de `Age` podem ser preenchidos com a idade média, porém usando a idade média de todo o conjunto de dados não é uma boa escolha. A melhor escolha seria a idade média dos grupos `Pclass` devido à sua alta correlação com `Age` e `Survived`. Veja a demonstração abaixo:"
   ]
  },
  {
   "attachments": {},
   "cell_type": "markdown",
   "metadata": {},
   "source": [
    "- `df.corr()` : é usado para encontrar correlações em pares de todas as colunas do DataFrame.\n",
    "- `abs()` : retorna o valor absoluto de um dado número, ou seja, sua magnitude.\n",
    "- `unstack()` : retorna um Dataframe com um novo nível de *labels* de coluna cujo nível mais interno consiste nos *labels* de índice dinâmico.\n",
    "- `sort_values()` : ordena os valores em qualquer um dos eixos.\n",
    "    - `kind` : parâmetro que permite escolher o algoritmo de ordenação que será utilizado.\n",
    "    - `ascending` : parâmetro para definir se a ordenação será feita de maneira crescente (True) ou decrescente (False).\n",
    "- `reset_index()` : reseta os índices.\n"
   ]
  },
  {
   "cell_type": "code",
   "execution_count": 27,
   "metadata": {},
   "outputs": [
    {
     "data": {
      "text/html": [
       "<div>\n",
       "<style scoped>\n",
       "    .dataframe tbody tr th:only-of-type {\n",
       "        vertical-align: middle;\n",
       "    }\n",
       "\n",
       "    .dataframe tbody tr th {\n",
       "        vertical-align: top;\n",
       "    }\n",
       "\n",
       "    .dataframe thead th {\n",
       "        text-align: right;\n",
       "    }\n",
       "</style>\n",
       "<table border=\"1\" class=\"dataframe\">\n",
       "  <thead>\n",
       "    <tr style=\"text-align: right;\">\n",
       "      <th></th>\n",
       "      <th>Feature 1</th>\n",
       "      <th>Feature 2</th>\n",
       "      <th>Correlation Coefficient</th>\n",
       "    </tr>\n",
       "  </thead>\n",
       "  <tbody>\n",
       "    <tr>\n",
       "      <th>0</th>\n",
       "      <td>Age</td>\n",
       "      <td>Age</td>\n",
       "      <td>1.000000</td>\n",
       "    </tr>\n",
       "    <tr>\n",
       "      <th>9</th>\n",
       "      <td>Age</td>\n",
       "      <td>Pclass</td>\n",
       "      <td>0.408106</td>\n",
       "    </tr>\n",
       "    <tr>\n",
       "      <th>18</th>\n",
       "      <td>Age</td>\n",
       "      <td>SibSp</td>\n",
       "      <td>0.243699</td>\n",
       "    </tr>\n",
       "    <tr>\n",
       "      <th>21</th>\n",
       "      <td>Age</td>\n",
       "      <td>Fare</td>\n",
       "      <td>0.178740</td>\n",
       "    </tr>\n",
       "    <tr>\n",
       "      <th>26</th>\n",
       "      <td>Age</td>\n",
       "      <td>Parch</td>\n",
       "      <td>0.150917</td>\n",
       "    </tr>\n",
       "    <tr>\n",
       "      <th>30</th>\n",
       "      <td>Age</td>\n",
       "      <td>Survived</td>\n",
       "      <td>0.077221</td>\n",
       "    </tr>\n",
       "    <tr>\n",
       "      <th>41</th>\n",
       "      <td>Age</td>\n",
       "      <td>PassengerId</td>\n",
       "      <td>0.028814</td>\n",
       "    </tr>\n",
       "  </tbody>\n",
       "</table>\n",
       "</div>"
      ],
      "text/plain": [
       "   Feature 1    Feature 2  Correlation Coefficient\n",
       "0        Age          Age                 1.000000\n",
       "9        Age       Pclass                 0.408106\n",
       "18       Age        SibSp                 0.243699\n",
       "21       Age         Fare                 0.178740\n",
       "26       Age        Parch                 0.150917\n",
       "30       Age     Survived                 0.077221\n",
       "41       Age  PassengerId                 0.028814"
      ]
     },
     "execution_count": 27,
     "metadata": {},
     "output_type": "execute_result"
    }
   ],
   "source": [
    "# Cria um Dataframe com a correlações das variáveis\n",
    "df_all_corr = df_all.corr().abs().unstack().sort_values(kind='quicksort', ascending=False).reset_index()\n",
    "# Muda o nome das colunas do DataFrame\n",
    "df_all_corr.rename(columns={'level_0': 'Feature 1', 'level_1': 'Feature 2', 0: 'Correlation Coefficient'}, inplace=True)\n",
    "# Seleciona somente as correlações de 'Age'\n",
    "df_all_corr[df_all_corr['Feature 1'] == 'Age']"
   ]
  },
  {
   "attachments": {},
   "cell_type": "markdown",
   "metadata": {},
   "source": [
    "Para ser mais preciso, a variável `Sex` é usada como segundo nível de *groupby* enquanto preenche os valores de idade ausentes. Como pode ser visto abaixo, os grupos `Pclass` e `Sex` têm valores medianos distintos. Quando a classe de passageiros aumenta, a idade média para homens e mulheres também aumenta. No entanto, as mulheres tendem a ter uma idade mediana ligeramente inferior à dos homens. As idades medianas abaixo são usadas para preencher os valores ausentes na *feature* `Age`."
   ]
  },
  {
   "cell_type": "code",
   "execution_count": 134,
   "metadata": {},
   "outputs": [],
   "source": [
    "# Cria um DataFrame com a mediana das idades por sexo e classe \n",
    "age_by_pclass_sex = df_all.groupby(['Sex', 'Pclass']).median()['Age']\n",
    "\n",
    "# Organizando os dados para plotar\n",
    "data = []\n",
    "for pclass in range(1, 4):\n",
    "    for sex in ['female', 'male']:\n",
    "        data += [{\n",
    "            'Pclass': pclass,\n",
    "            'median_age': age_by_pclass_sex[sex][pclass],\n",
    "            'sex': sex \n",
    "        }]\n",
    "\n",
    "# DataFrame para plotar o gráfico\n",
    "age_by_pclass_sex = pd.DataFrame(data)\n"
   ]
  },
  {
   "cell_type": "code",
   "execution_count": 135,
   "metadata": {},
   "outputs": [
    {
     "data": {
      "image/png": "[encoded data removed]",
      "text/plain": [
       "<Figure size 640x480 with 1 Axes>"
      ]
     },
     "metadata": {},
     "output_type": "display_data"
    }
   ],
   "source": [
    "sns.barplot(x=age_by_pclass_sex['Pclass'], y=age_by_pclass_sex['median_age'], hue='sex', data=age_by_pclass_sex, palette='viridis');"
   ]
  },
  {
   "attachments": {},
   "cell_type": "markdown",
   "metadata": {},
   "source": [
    "Feito essa análise, vamos preencher os valores ausentes de `Age` com a mediana dos grupos `Sex` e `Pclass`"
   ]
  },
  {
   "cell_type": "code",
   "execution_count": 136,
   "metadata": {},
   "outputs": [],
   "source": [
    "df_all['Age'] = df_all.groupby(['Sex', 'Pclass'])['Age'].apply(lambda x: x.fillna(x.median()))"
   ]
  },
  {
   "attachments": {},
   "cell_type": "markdown",
   "metadata": {},
   "source": [
    "### 1.2.2 Embarked\n",
    "`Embarked` é uma *feature* categórica e só possui **2** valores ausentes. Ambos passageiros são mulheres, classe alta e possuem o mesmo número de bilhete. Isso significa que elas se conhecem e embarcaram juntas no mesmo porto. Vamos ver qual porto mais passageiros com essas características embarcaram:"
   ]
  },
  {
   "cell_type": "code",
   "execution_count": 151,
   "metadata": {},
   "outputs": [
    {
     "data": {
      "text/html": [
       "<div>\n",
       "<style scoped>\n",
       "    .dataframe tbody tr th:only-of-type {\n",
       "        vertical-align: middle;\n",
       "    }\n",
       "\n",
       "    .dataframe tbody tr th {\n",
       "        vertical-align: top;\n",
       "    }\n",
       "\n",
       "    .dataframe thead th {\n",
       "        text-align: right;\n",
       "    }\n",
       "</style>\n",
       "<table border=\"1\" class=\"dataframe\">\n",
       "  <thead>\n",
       "    <tr style=\"text-align: right;\">\n",
       "      <th></th>\n",
       "      <th>Age</th>\n",
       "      <th>Cabin</th>\n",
       "      <th>Embarked</th>\n",
       "      <th>Fare</th>\n",
       "      <th>Name</th>\n",
       "      <th>Parch</th>\n",
       "      <th>PassengerId</th>\n",
       "      <th>Pclass</th>\n",
       "      <th>Sex</th>\n",
       "      <th>SibSp</th>\n",
       "      <th>Survived</th>\n",
       "      <th>Ticket</th>\n",
       "    </tr>\n",
       "  </thead>\n",
       "  <tbody>\n",
       "    <tr>\n",
       "      <th>61</th>\n",
       "      <td>38.0</td>\n",
       "      <td>B28</td>\n",
       "      <td>NaN</td>\n",
       "      <td>80.0</td>\n",
       "      <td>Icard, Miss. Amelie</td>\n",
       "      <td>0</td>\n",
       "      <td>62</td>\n",
       "      <td>1</td>\n",
       "      <td>female</td>\n",
       "      <td>0</td>\n",
       "      <td>1.0</td>\n",
       "      <td>113572</td>\n",
       "    </tr>\n",
       "    <tr>\n",
       "      <th>829</th>\n",
       "      <td>62.0</td>\n",
       "      <td>B28</td>\n",
       "      <td>NaN</td>\n",
       "      <td>80.0</td>\n",
       "      <td>Stone, Mrs. George Nelson (Martha Evelyn)</td>\n",
       "      <td>0</td>\n",
       "      <td>830</td>\n",
       "      <td>1</td>\n",
       "      <td>female</td>\n",
       "      <td>0</td>\n",
       "      <td>1.0</td>\n",
       "      <td>113572</td>\n",
       "    </tr>\n",
       "  </tbody>\n",
       "</table>\n",
       "</div>"
      ],
      "text/plain": [
       "      Age Cabin Embarked  Fare                                       Name  \\\n",
       "61   38.0   B28      NaN  80.0                        Icard, Miss. Amelie   \n",
       "829  62.0   B28      NaN  80.0  Stone, Mrs. George Nelson (Martha Evelyn)   \n",
       "\n",
       "     Parch  PassengerId  Pclass     Sex  SibSp  Survived  Ticket  \n",
       "61       0           62       1  female      0       1.0  113572  \n",
       "829      0          830       1  female      0       1.0  113572  "
      ]
     },
     "execution_count": 151,
     "metadata": {},
     "output_type": "execute_result"
    }
   ],
   "source": [
    "df_all[df_all['Embarked'].isnull()]"
   ]
  },
  {
   "cell_type": "code",
   "execution_count": 149,
   "metadata": {},
   "outputs": [
    {
     "data": {
      "text/plain": [
       "C    71\n",
       "S    69\n",
       "Q     2\n",
       "Name: Embarked, dtype: int64"
      ]
     },
     "execution_count": 149,
     "metadata": {},
     "output_type": "execute_result"
    }
   ],
   "source": [
    "df_all.query(\"Sex == 'female' and Pclass == 1\")['Embarked'].value_counts(ascending=False)"
   ]
  },
  {
   "attachments": {},
   "cell_type": "markdown",
   "metadata": {},
   "source": [
    "O porto que embarcou mais passageiros com essas características foi o de *Cherbourg*, entretando com um valor muito próximo do porto de *Southampton*. Feito essa análise eu vou ir mais a fundo sobre essa informação para deixar aqui registrado uma mensagem muito importante para mim...\n",
    "\n",
    "Pesquisando os valores do salário líquido mensal médio (após impostos) de *Cherbourg* e *Southampton* que possuem números de passageiros embarcados bem próximos, encontrei:\n",
    "- **Cherbourg:** $1.875,74\n",
    "- **Southampton:** $2.679,46\n",
    "\n",
    "\n",
    "Com base nisso, eu poderia pensar que a *Mrs. George Nelson* embarcou no porto de *Southampton* pelo fato de que o salário médio é maior e ela embarcou na classe alta.\n",
    "\n",
    "Para tirar a prova dessa suposição, pesquisei o nome dela no google e veja o que eu encontrei:\n",
    "> *'Mrs Stone boarded the Titanic in Southampton on 10 April 1912 and was travelling in first class with her maid Amelie Icard. She occupied cabin B-28.'*\n",
    "Informação encontrada nessa página, [Martha Evelyn Stone: Titanic Survivor](https://www.encyclopedia-titanica.org/titanic-survivor/martha-evelyn-stone.html)"
   ]
  }
 ],
 "metadata": {
  "kernelspec": {
   "display_name": "Python 3",
   "language": "python",
   "name": "python3"
  },
  "language_info": {
   "codemirror_mode": {
    "name": "ipython",
    "version": 3
   },
   "file_extension": ".py",
   "mimetype": "text/x-python",
   "name": "python",
   "nbconvert_exporter": "python",
   "pygments_lexer": "ipython3",
   "version": "3.11.1"
  },
  "orig_nbformat": 4
 },
 "nbformat": 4,
 "nbformat_minor": 2
}
